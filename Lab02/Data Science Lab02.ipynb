{
 "cells": [
  {
   "cell_type": "markdown",
   "id": "790a6b18",
   "metadata": {},
   "source": [
    "# Grid Drawer"
   ]
  },
  {
   "cell_type": "code",
   "execution_count": null,
   "id": "c8c32d5e",
   "metadata": {},
   "outputs": [],
   "source": [
    "def draw_grid(m=2, n=3):\n",
    "    index = 0\n",
    "    while index < m:\n",
    "        print('+'+' - - +'*n)\n",
    "        print('/'+'     /'*n)\n",
    "        print('/'+'     /'*n)\n",
    "        index = index + 1\n",
    "    print('+'+' - - +'*n)"
   ]
  },
  {
   "cell_type": "code",
   "execution_count": null,
   "id": "20681f20",
   "metadata": {
    "scrolled": false
   },
   "outputs": [],
   "source": [
    "if __name__ == '__main__':    \n",
    "    draw_grid()\n",
    "    draw_grid(3, 2)"
   ]
  },
  {
   "cell_type": "markdown",
   "id": "642999e8",
   "metadata": {},
   "source": [
    "# Estimate pi"
   ]
  },
  {
   "cell_type": "code",
   "execution_count": null,
   "id": "f7b5ba44",
   "metadata": {},
   "outputs": [],
   "source": [
    "import math\n",
    "def estimate_pi():\n",
    "    k = 0\n",
    "    s = 0.0\n",
    "    t = 0.0\n",
    "    while True:\n",
    "        t = (math.factorial(4*k)*(1103+26390*k))/(math.pow(math.factorial(k), 4)*math.pow(396, (4*k)))\n",
    "        s += t\n",
    "        k += 1\n",
    "        if t < 1e-15:\n",
    "            break\n",
    "    \n",
    "    s *= (2*math.sqrt(2))/9801\n",
    "    return 1/s"
   ]
  },
  {
   "cell_type": "code",
   "execution_count": null,
   "id": "951bd8b3",
   "metadata": {
    "scrolled": false
   },
   "outputs": [],
   "source": [
    "if __name__ == '__main__':    \n",
    "    print(estimate_pi() == math.pi)\n",
    "    print(estimate_pi())\n",
    "    print(math.pi)"
   ]
  },
  {
   "cell_type": "markdown",
   "id": "9e1cb77b",
   "metadata": {},
   "source": [
    "# Reverse Pair"
   ]
  },
  {
   "cell_type": "code",
   "execution_count": 1,
   "id": "59df184d",
   "metadata": {},
   "outputs": [],
   "source": [
    "def find_reverse_pair(word_list, case_sensitive = False):\n",
    "    reverse_pair_list = []\n",
    "    \n",
    "    if not case_sensitive:\n",
    "        word_list = [word.lower() for word in word_list]\n",
    "    \n",
    "    for word in word_list:\n",
    "        if word[::-1] in word_list[word_list.index(word) + 1::]:\n",
    "            reverse_pair_list.append([word, word[::-1]])\n",
    "            \n",
    "    return reverse_pair_list"
   ]
  },
  {
   "cell_type": "code",
   "execution_count": 2,
   "id": "a044ca92",
   "metadata": {
    "scrolled": true
   },
   "outputs": [
    {
     "name": "stdout",
     "output_type": "stream",
     "text": [
      "Finish executing after 50.74998736381531 s\n",
      "\n",
      "Found 127 reverse pairs\n",
      "\n",
      "[['able', 'elba'], ['ah', 'ha'], ['anal', 'lana'], ['are', 'era'], ['avis', 'siva'], ['bag', 'gab'], ['ban', 'nab'], ['bard', 'drab'], ['bat', 'tab'], ['bats', 'stab'], ['brag', 'garb'], ['bud', 'dub'], ['buns', 'snub'], ['bus', 'sub'], ['but', 'tub'], ['cam', 'mac'], ['cod', 'doc'], ['cram', 'marc'], ['dam', 'mad'], ['de', 'ed'], ['decal', 'laced'], ['deeps', 'speed'], ['deer', 'reed'], ['del', 'led'], ['deliver', 'reviled'], ['den', 'ned'], ['denier', 'reined'], ['dennis', 'sinned'], ['desserts', 'stressed'], ['deus', 'sued'], ['devil', 'lived'], ['dial', 'laid'], ['diaper', 'repaid'], ['dim', 'mid'], ['dine', 'enid'], ['dog', 'god'], ['don', 'nod'], ['doom', 'mood'], ['draw', 'ward'], ['drawer', 'reward'], ['ear', 'rae'], ['edit', 'tide'], ['eel', 'lee'], ['eire', 'erie'], ['em', 'me'], ['emil', 'lime'], ['emit', 'time'], ['eris', 'sire'], ['eros', 'sore'], ['evil', 'live'], ['fires', 'serif'], ['flog', 'golf'], ['flow', 'wolf'], ['gas', 'sag'], ['gel', 'leg'], ['gem', 'meg'], ['gnat', 'tang'], ['gnaw', 'wang'], ['gulp', 'plug'], ['gum', 'mug'], ['gums', 'smug'], ['guns', 'snug'], ['gut', 'tug'], ['keel', 'leek'], ['keels', 'sleek'], ['keep', 'peek'], ['knits', 'stink'], ['kramer', 'remark'], ['kurt', 'truk'], ['lager', 'regal'], ['lap', 'pal'], ['leer', 'reel'], ['leon', 'noel'], ['leper', 'repel'], ['lever', 'revel'], ['liar', 'rail'], ['lien', 'neil'], ['lin', 'nil'], ['loop', 'pool'], ['loops', 'spool'], ['loot', 'tool'], ['loots', 'stool'], ['los', 'sol'], ['map', 'pam'], ['meet', 'teem'], ['mets', 'stem'], ['moor', 'room'], ['nap', 'pan'], ['naps', 'span'], ['nat', 'tan'], ['net', 'ten'], ['nip', 'pin'], ['nips', 'spin'], ['no', 'on'], ['nor', 'ron'], ['not', 'ton'], ['now', 'won'], ['nuts', 'stun'], ['pals', 'slap'], ['pans', 'snap'], ['par', 'rap'], ['part', 'trap'], ['parts', 'strap'], ['pat', 'tap'], ['paws', 'swap'], ['peels', 'sleep'], ['pets', 'step'], ['pins', 'snip'], ['pit', 'tip'], ['pools', 'sloop'], ['pot', 'top'], ['pots', 'stop'], ['rat', 'tar'], ['rats', 'star'], ['raw', 'war'], ['redraw', 'warder'], ['remit', 'timer'], ['saw', 'was'], ['snaps', 'spans'], ['snoops', 'spoons'], ['spat', 'taps'], ['spit', 'tips'], ['spot', 'tops'], ['spots', 'stops'], ['stew', 'wets'], ['straw', 'warts'], ['suez', 'zeus']]\n"
     ]
    }
   ],
   "source": [
    " if __name__ == '__main__':   \n",
    "    import time\n",
    "    time_start = time.time()\n",
    "\n",
    "    with open(r'C:\\Users\\88697\\Downloads\\words.txt', 'r') as file:\n",
    "        word_list = file.read().splitlines()\n",
    "        reverse_pair_list = find_reverse_pair(word_list)\n",
    "\n",
    "    time_end = time.time()\n",
    "\n",
    "    print('Finish executing after', time_end - time_start, 's\\n')\n",
    "    print('Found', len(reverse_pair_list), 'reverse pairs\\n', )\n",
    "    print(reverse_pair_list)"
   ]
  },
  {
   "cell_type": "markdown",
   "id": "056efae4",
   "metadata": {},
   "source": [
    "# Reverse Lookup"
   ]
  },
  {
   "cell_type": "code",
   "execution_count": null,
   "id": "4d903430",
   "metadata": {},
   "outputs": [],
   "source": [
    "def reverse_lookup(d, v):\n",
    "    k = []\n",
    "    if v in d.values():\n",
    "        for k1 in d:\n",
    "            if d.get(k1) == v:\n",
    "                k.append(k1)\n",
    "    return k"
   ]
  },
  {
   "cell_type": "code",
   "execution_count": null,
   "id": "dc0b717e",
   "metadata": {},
   "outputs": [],
   "source": [
    "if __name__ == '__main__':\n",
    "    ben = {'name':'James', 'age':26, 'best friend':'James', 'shoe size':26, 24:'James', 23:26}\n",
    "    print(reverse_lookup(ben, 'James'))"
   ]
  }
 ],
 "metadata": {
  "kernelspec": {
   "display_name": "Python 3 (ipykernel)",
   "language": "python",
   "name": "python3"
  },
  "language_info": {
   "codemirror_mode": {
    "name": "ipython",
    "version": 3
   },
   "file_extension": ".py",
   "mimetype": "text/x-python",
   "name": "python",
   "nbconvert_exporter": "python",
   "pygments_lexer": "ipython3",
   "version": "3.9.6"
  },
  "varInspector": {
   "cols": {
    "lenName": 16,
    "lenType": 16,
    "lenVar": 40
   },
   "kernels_config": {
    "python": {
     "delete_cmd_postfix": "",
     "delete_cmd_prefix": "del ",
     "library": "var_list.py",
     "varRefreshCmd": "print(var_dic_list())"
    },
    "r": {
     "delete_cmd_postfix": ") ",
     "delete_cmd_prefix": "rm(",
     "library": "var_list.r",
     "varRefreshCmd": "cat(var_dic_list()) "
    }
   },
   "types_to_exclude": [
    "module",
    "function",
    "builtin_function_or_method",
    "instance",
    "_Feature"
   ],
   "window_display": false
  }
 },
 "nbformat": 4,
 "nbformat_minor": 5
}
